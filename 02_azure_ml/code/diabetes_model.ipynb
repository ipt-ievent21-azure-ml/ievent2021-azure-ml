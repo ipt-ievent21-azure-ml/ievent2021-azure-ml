{
  "cells": [
    {
      "cell_type": "markdown",
      "metadata": {
        "nteract": {
          "transient": {
            "deleting": false
          }
        }
      },
      "source": [
        "# Diabetes Modell"
      ]
    },
    {
      "cell_type": "markdown",
      "metadata": {
        "nteract": {
          "transient": {
            "deleting": false
          }
        }
      },
      "source": [
        "## Erstellen eines Modells mit Scikit-Learn"
      ]
    },
    {
      "cell_type": "markdown",
      "metadata": {
        "nteract": {
          "transient": {
            "deleting": false
          }
        }
      },
      "source": [
        "### Daten importieren\n",
        "\n",
        "In diesem Notebook verwenden wir das Diabetes Dataset von [Azure Open Datasets](https://azure.microsoft.com/en-us/services/open-datasets/#overview)."
      ]
    },
    {
      "cell_type": "code",
      "execution_count": 1,
      "metadata": {
        "gather": {
          "logged": 1635078522958
        }
      },
      "outputs": [
        {
          "name": "stdout",
          "output_type": "stream",
          "text": [
            "<class 'pandas.core.frame.DataFrame'>\n",
            "RangeIndex: 442 entries, 0 to 441\n",
            "Data columns (total 10 columns):\n",
            "AGE    442 non-null int64\n",
            "SEX    442 non-null int64\n",
            "BMI    442 non-null float64\n",
            "BP     442 non-null float64\n",
            "S1     442 non-null int64\n",
            "S2     442 non-null float64\n",
            "S3     442 non-null float64\n",
            "S4     442 non-null float64\n",
            "S5     442 non-null float64\n",
            "S6     442 non-null int64\n",
            "dtypes: float64(6), int64(4)\n",
            "memory usage: 34.7 KB\n"
          ]
        }
      ],
      "source": [
        "from azureml.opendatasets import Diabetes\n",
        "\n",
        "diabetes = Diabetes.get_tabular_dataset()\n",
        "X = diabetes.drop_columns(\"Y\")\n",
        "y = diabetes.keep_columns(\"Y\")\n",
        "X_df = X.to_pandas_dataframe()\n",
        "y_df = y.to_pandas_dataframe()\n",
        "X_df.info()"
      ]
    },
    {
      "cell_type": "markdown",
      "metadata": {
        "nteract": {
          "transient": {
            "deleting": false
          }
        }
      },
      "source": [
        "Der Pandas Data Fram `X_df` enthält 10 Inputvariablen für die Ausgangssituation, wie Alter, Geschlecht, Body-Mass-Index, durchschnittlicher Blutdruck und sechs Blutserum-Messungen.\n",
        "\n",
        "Der Pandas Data Frame `y_df` ist die Zielvariable. Diese Zielvariable ist ein quantitatives Mass für die Diabetesentwicklung ein Jahr nach der Ausgangssituation."
      ]
    },
    {
      "cell_type": "markdown",
      "metadata": {
        "nteract": {
          "transient": {
            "deleting": false
          }
        }
      },
      "source": [
        "### Modell trainieren\n",
        "\n",
        "Dieses Codeschnipsel konstruiert ein [Ridge-Regressionsmodell](https://scikit-learn.org/stable/modules/linear_model.html#ridge-regression) und serialisiert das Modell mit Hilfe des Python-Pickel-Formats."
      ]
    },
    {
      "cell_type": "code",
      "execution_count": 2,
      "metadata": {
        "gather": {
          "logged": 1635078523494
        },
        "jupyter": {
          "outputs_hidden": false,
          "source_hidden": false
        },
        "nteract": {
          "transient": {
            "deleting": false
          }
        }
      },
      "outputs": [
        {
          "data": {
            "text/plain": [
              "['sklearn_regression_model.pkl']"
            ]
          },
          "execution_count": 2,
          "metadata": {},
          "output_type": "execute_result"
        }
      ],
      "source": [
        "import joblib\n",
        "from sklearn.linear_model import Ridge\n",
        "\n",
        "model = Ridge().fit(X_df,y_df)\n",
        "joblib.dump(model, 'sklearn_regression_model.pkl')"
      ]
    },
    {
      "cell_type": "markdown",
      "metadata": {
        "nteract": {
          "transient": {
            "deleting": false
          }
        }
      },
      "source": [
        "### Modell registrieren\n",
        "\n",
        "Neben dem Inhalt der Modelldatei selbst speichert ein registriertes Modell auch Metadaten. Zu den Metadaten gehören die Modellbeschreibung, Tags und Framework-Informationen.\n",
        "\n",
        "Metadaten sind nützlich, um Modelle im Workspace zu verwalten und bereitzustellen."
      ]
    },
    {
      "cell_type": "code",
      "execution_count": 3,
      "metadata": {
        "gather": {
          "logged": 1635078525816
        },
        "jupyter": {
          "outputs_hidden": false,
          "source_hidden": false
        },
        "nteract": {
          "transient": {
            "deleting": false
          }
        }
      },
      "outputs": [
        {
          "name": "stdout",
          "output_type": "stream",
          "text": [
            "Registering model my-sklearn-diabetes-model\n",
            "Name: my-sklearn-diabetes-model\n",
            "Version: 3\n"
          ]
        }
      ],
      "source": [
        "import sklearn\n",
        "\n",
        "from azureml.core import Workspace\n",
        "from azureml.core import Model\n",
        "from azureml.core.resource_configuration import ResourceConfiguration\n",
        "\n",
        "ws = Workspace.from_config()\n",
        "\n",
        "model = Model.register(\n",
        "    workspace=ws,\n",
        "    model_name='my-sklearn-diabetes-model',         # Name of the registered model in your workspace.\n",
        "    model_path='./sklearn_regression_model.pkl',    # Local file to upload and register as a model.\n",
        "    model_framework=Model.Framework.SCIKITLEARN,    # Framework used to create the model.\n",
        "    model_framework_version=sklearn.__version__,    # Version of scikit-learn used to create the model.\n",
        "    sample_input_dataset=X,\n",
        "    sample_output_dataset=y,\n",
        "    resource_configuration=ResourceConfiguration(cpu=2, memory_in_gb=4),\n",
        "    description='Ridge regression model to predict diabetes progression.',\n",
        "    tags={'area': 'diabetes', 'type': 'regression'}\n",
        ")\n",
        "\n",
        "print('Name:', model.name)\n",
        "print('Version:', model.version)"
      ]
    },
    {
      "cell_type": "markdown",
      "metadata": {},
      "source": [
        "## Modell als Web Service bereitstellen"
      ]
    },
    {
      "cell_type": "markdown",
      "metadata": {
        "nteract": {
          "transient": {
            "deleting": false
          }
        }
      },
      "source": [
        "### Modell Scoring Script\n",
        "\n",
        "Das Scoring-Skript enthält zwei Methoden:\n",
        "\n",
        "* Die Methode `init()` wird beim Starten des Dienstes ausgeführt. Sie lädt das Modell (das automatisch aus der Modellregistrierung heruntergeladen wird) und deserialisiert es.\n",
        "* Die Methode `run(data)` wird ausgeführt, wenn ein Aufruf des Dienstes Eingabedaten enthält, die ausgewertet werden müssen."
      ]
    },
    {
      "cell_type": "code",
      "execution_count": 4,
      "metadata": {
        "jupyter": {
          "outputs_hidden": false,
          "source_hidden": false
        },
        "nteract": {
          "transient": {
            "deleting": false
          }
        }
      },
      "outputs": [
        {
          "name": "stdout",
          "output_type": "stream",
          "text": [
            "Overwriting score.py\n"
          ]
        }
      ],
      "source": [
        "%%writefile score.py\n",
        "\n",
        "import json\n",
        "import pickle\n",
        "import numpy as np\n",
        "import pandas as pd\n",
        "import os\n",
        "import joblib\n",
        "from azureml.core.model import Model\n",
        "\n",
        "from inference_schema.schema_decorators import input_schema, output_schema\n",
        "from inference_schema.parameter_types.numpy_parameter_type import NumpyParameterType\n",
        "from inference_schema.parameter_types.pandas_parameter_type import PandasParameterType\n",
        "\n",
        "\n",
        "def init():\n",
        "    global model\n",
        "    # Replace filename if needed.\n",
        "    path = os.getenv('AZUREML_MODEL_DIR') \n",
        "    model_path = os.path.join(path, 'sklearn_regression_model.pkl')\n",
        "    # Deserialize the model file back into a sklearn model.\n",
        "    model = joblib.load(model_path)\n",
        "\n",
        "\n",
        "input_sample = pd.DataFrame(data=[{\n",
        "    \"AGE\": 5,\n",
        "    \"SEX\": 2,\n",
        "    \"BMI\": 3.1,\n",
        "    \"BP\": 3.1,\n",
        "    \"S1\": 3.1,\n",
        "    \"S2\": 3.1,\n",
        "    \"S3\": 3.1,\n",
        "    \"S4\": 3.1,\n",
        "    \"S5\": 3.1,\n",
        "    \"S6\": 3.1\n",
        "}])\n",
        "\n",
        "# This is an integer type sample. Use the data type that reflects the expected result.\n",
        "output_sample = np.array([0])\n",
        "\n",
        "# To indicate that we support a variable length of data input,\n",
        "# set enforce_shape=False\n",
        "@input_schema('data', PandasParameterType(input_sample))\n",
        "@output_schema(NumpyParameterType(output_sample))\n",
        "def run(data):\n",
        "    try:\n",
        "        print(\"input_data....\")\n",
        "        print(data.columns)\n",
        "        print(type(data))\n",
        "        result = model.predict(data)\n",
        "        print(\"result.....\")\n",
        "        print(result)\n",
        "\n",
        "        # You can return any data type, as long as it can be serialized by JSON.\n",
        "        return result.tolist()\n",
        "    except Exception as e:\n",
        "        error = str(e)\n",
        "        return error"
      ]
    },
    {
      "cell_type": "markdown",
      "metadata": {
        "nteract": {
          "transient": {
            "deleting": false
          }
        }
      },
      "source": [
        "### Definiere das benutzerdefinierte Environment\n",
        "\n",
        "Definiere im Environment die Python Pakete, wie z. B. `pandas` und `scikit-learn`, die das Scoring Script (`score.py`) benötigt."
      ]
    },
    {
      "cell_type": "code",
      "execution_count": 5,
      "metadata": {
        "gather": {
          "logged": 1635078526173
        },
        "jupyter": {
          "outputs_hidden": false,
          "source_hidden": false
        },
        "nteract": {
          "transient": {
            "deleting": false
          }
        }
      },
      "outputs": [],
      "source": [
        "from azureml.core.model import InferenceConfig\n",
        "from azureml.core import Environment\n",
        "from azureml.core.conda_dependencies import CondaDependencies\n",
        "\n",
        "environment = Environment('my-sklearn-environment')\n",
        "environment.python.conda_dependencies = CondaDependencies.create(pip_packages=[\n",
        "    'azureml-defaults',\n",
        "    'inference-schema[numpy-support]',\n",
        "    'joblib',\n",
        "    'numpy',\n",
        "    'pandas',\n",
        "    'scikit-learn=={}'.format(sklearn.__version__)\n",
        "])\n",
        "\n",
        "inference_config = InferenceConfig(entry_script='./score.py',environment=environment)"
      ]
    },
    {
      "cell_type": "markdown",
      "metadata": {
        "nteract": {
          "transient": {
            "deleting": false
          }
        }
      },
      "source": [
        "### Model deployen"
      ]
    },
    {
      "cell_type": "code",
      "execution_count": 6,
      "metadata": {
        "gather": {
          "logged": 1635078702088
        },
        "jupyter": {
          "outputs_hidden": false,
          "source_hidden": false
        },
        "nteract": {
          "transient": {
            "deleting": false
          }
        }
      },
      "outputs": [
        {
          "name": "stdout",
          "output_type": "stream",
          "text": [
            "Tips: You can try get_logs(): https://aka.ms/debugimage#dockerlog or local deployment: https://aka.ms/debugimage#debug-locally to debug if deployment takes longer than 10 minutes.\n",
            "Running\n",
            "2021-10-24 12:28:47+00:00 Creating Container Registry if not exists.\n",
            "2021-10-24 12:28:47+00:00 Registering the environment.\n",
            "2021-10-24 12:28:48+00:00 Use the existing image.\n",
            "2021-10-24 12:28:51+00:00 Submitting deployment to compute.\n",
            "2021-10-24 12:28:56+00:00 Checking the status of deployment my-sklearn-diabetes-service..\n",
            "2021-10-24 12:31:02+00:00 Checking the status of inference endpoint my-sklearn-diabetes-service.\n",
            "Succeeded\n",
            "ACI service creation operation finished, operation \"Succeeded\"\n"
          ]
        }
      ],
      "source": [
        "service_name = 'my-sklearn-diabetes-service'\n",
        "\n",
        "service = Model.deploy(ws, service_name, [model], inference_config, overwrite=True)\n",
        "service.wait_for_deployment(show_output=True)"
      ]
    },
    {
      "cell_type": "markdown",
      "metadata": {
        "nteract": {
          "transient": {
            "deleting": false
          }
        }
      },
      "source": [
        "### Web Service testen\n",
        "\n",
        "Der Output sollte wie die folgende Python Liste aussehen:\n",
        "\n",
        "```python\n",
        "[[205.59094435613133], [68.84146418576978]]\n",
        "```"
      ]
    },
    {
      "cell_type": "code",
      "execution_count": 7,
      "metadata": {
        "gather": {
          "logged": 1635078702514
        },
        "jupyter": {
          "outputs_hidden": false,
          "source_hidden": false
        },
        "nteract": {
          "transient": {
            "deleting": false
          }
        }
      },
      "outputs": [
        {
          "name": "stdout",
          "output_type": "stream",
          "text": [
            "[[205.59094435613133], [68.84146418576978]]\n"
          ]
        }
      ],
      "source": [
        "import json\n",
        "\n",
        "input_payload = json.dumps({\n",
        "    'data': X_df[0:2].values.tolist()\n",
        "})\n",
        "\n",
        "output = service.run(input_payload)\n",
        "\n",
        "print(output)"
      ]
    }
  ],
  "metadata": {
    "kernel_info": {
      "name": "python3-azureml"
    },
    "kernelspec": {
      "display_name": "Python 3.6 - AzureML",
      "language": "python",
      "name": "python3-azureml"
    },
    "language_info": {
      "codemirror_mode": {
        "name": "ipython",
        "version": 3
      },
      "file_extension": ".py",
      "mimetype": "text/x-python",
      "name": "python",
      "nbconvert_exporter": "python",
      "pygments_lexer": "ipython3",
      "version": "3.6.9"
    },
    "microsoft": {
      "host": {
        "AzureML": {
          "notebookHasBeenCompleted": true
        }
      }
    },
    "nteract": {
      "version": "nteract-front-end@1.0.0"
    }
  },
  "nbformat": 4,
  "nbformat_minor": 2
}

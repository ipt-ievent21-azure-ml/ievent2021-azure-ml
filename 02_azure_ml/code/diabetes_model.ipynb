{
  "cells": [
    {
      "cell_type": "markdown",
      "source": [
        "# Diabetes Modell"
      ],
      "metadata": {
        "nteract": {
          "transient": {
            "deleting": false
          }
        }
      }
    },
    {
      "cell_type": "markdown",
      "source": [
        "## Erstellen eines Modells mit scikit-learn"
      ],
      "metadata": {
        "nteract": {
          "transient": {
            "deleting": false
          }
        }
      }
    },
    {
      "cell_type": "markdown",
      "source": [
        "### Daten importieren\n",
        "\n",
        "In diesem Notebook verwenden wir das Diabetes Dataset von [Azure Open Datasets](https://azure.microsoft.com/en-us/services/open-datasets/#overview)."
      ],
      "metadata": {
        "nteract": {
          "transient": {
            "deleting": false
          }
        }
      }
    },
    {
      "cell_type": "code",
      "source": [
        "from azureml.opendatasets import Diabetes\n",
        "\n",
        "diabetes = Diabetes.get_tabular_dataset()\n",
        "X = diabetes.drop_columns(\"Y\")\n",
        "y = diabetes.keep_columns(\"Y\")\n",
        "X_df = X.to_pandas_dataframe()\n",
        "y_df = y.to_pandas_dataframe()\n",
        "X_df.info()"
      ],
      "outputs": [
        {
          "output_type": "stream",
          "name": "stdout",
          "text": "<class 'pandas.core.frame.DataFrame'>\nRangeIndex: 442 entries, 0 to 441\nData columns (total 10 columns):\nAGE    442 non-null int64\nSEX    442 non-null int64\nBMI    442 non-null float64\nBP     442 non-null float64\nS1     442 non-null int64\nS2     442 non-null float64\nS3     442 non-null float64\nS4     442 non-null float64\nS5     442 non-null float64\nS6     442 non-null int64\ndtypes: float64(6), int64(4)\nmemory usage: 34.7 KB\n"
        }
      ],
      "execution_count": 1,
      "metadata": {
        "gather": {
          "logged": 1635197204807
        }
      }
    },
    {
      "cell_type": "markdown",
      "source": [
        "Der Pandas Data Fram `X_df` enthält 10 Inputvariablen für die Ausgangssituation, wie Alter, Geschlecht, Body-Mass-Index, durchschnittlicher Blutdruck und sechs Blutserum-Messungen.\n",
        "\n",
        "Der Pandas Data Frame `y_df` ist die Zielvariable. Diese Zielvariable ist ein quantitatives Mass für die Diabetesentwicklung ein Jahr nach der Ausgangssituation."
      ],
      "metadata": {
        "nteract": {
          "transient": {
            "deleting": false
          }
        }
      }
    },
    {
      "cell_type": "markdown",
      "source": [
        "### Modell trainieren\n",
        "\n",
        "Dieses Codeschnipsel konstruiert ein [Ridge-Regressionsmodell](https://scikit-learn.org/stable/modules/linear_model.html#ridge-regression) und serialisiert das Modell mit Hilfe des Python-Pickel-Formats."
      ],
      "metadata": {
        "nteract": {
          "transient": {
            "deleting": false
          }
        }
      }
    },
    {
      "cell_type": "code",
      "source": [
        "import joblib\n",
        "from sklearn.linear_model import Ridge\n",
        "\n",
        "model = Ridge().fit(X_df,y_df)\n",
        "joblib.dump(model, 'diabetes_sklearn_model.pkl')"
      ],
      "outputs": [
        {
          "output_type": "execute_result",
          "execution_count": 2,
          "data": {
            "text/plain": "['diabetes_sklearn_model.pkl']"
          },
          "metadata": {}
        }
      ],
      "execution_count": 2,
      "metadata": {
        "gather": {
          "logged": 1635197207128
        },
        "jupyter": {
          "outputs_hidden": false,
          "source_hidden": false
        },
        "nteract": {
          "transient": {
            "deleting": false
          }
        }
      }
    },
    {
      "cell_type": "markdown",
      "source": [
        "### Modell registrieren\n",
        "\n",
        "Neben dem Inhalt der Modelldatei selbst speichert ein registriertes Modell auch Metadaten. Zu den Metadaten gehören die Modellbeschreibung, Tags und Framework-Informationen.\n",
        "\n",
        "Metadaten sind nützlich, um Modelle im Workspace zu verwalten und bereitzustellen."
      ],
      "metadata": {
        "nteract": {
          "transient": {
            "deleting": false
          }
        }
      }
    },
    {
      "cell_type": "code",
      "source": [
        "import sklearn\n",
        "\n",
        "from azureml.core import Workspace\n",
        "from azureml.core import Model\n",
        "from azureml.core.resource_configuration import ResourceConfiguration\n",
        "\n",
        "ws = Workspace.from_config()\n",
        "\n",
        "model = Model.register(\n",
        "    workspace=ws,\n",
        "    model_name='diabetes-sklearn-model',         # Name of the registered model in your workspace.\n",
        "    model_path='./diabetes_sklearn_model.pkl',    # Local file to upload and register as a model.\n",
        "    model_framework=Model.Framework.SCIKITLEARN,    # Framework used to create the model.\n",
        "    model_framework_version=sklearn.__version__,    # Version of scikit-learn used to create the model.\n",
        "    sample_input_dataset=X,\n",
        "    sample_output_dataset=y,\n",
        "    resource_configuration=ResourceConfiguration(cpu=2, memory_in_gb=4),\n",
        "    description='Ridge regression model to predict diabetes progression.',\n",
        "    tags={'area': 'diabetes', 'type': 'regression'}\n",
        ")\n",
        "\n",
        "print('Name:', model.name)\n",
        "print('Version:', model.version)"
      ],
      "outputs": [
        {
          "output_type": "stream",
          "name": "stdout",
          "text": "Registering model diabetes-sklearn-model\nName: diabetes-sklearn-model\nVersion: 1\n"
        }
      ],
      "execution_count": 3,
      "metadata": {
        "gather": {
          "logged": 1635197210898
        },
        "jupyter": {
          "outputs_hidden": false,
          "source_hidden": false
        },
        "nteract": {
          "transient": {
            "deleting": false
          }
        }
      }
    },
    {
      "cell_type": "markdown",
      "source": [
        "## Modell als Web Service bereitstellen"
      ],
      "metadata": {}
    },
    {
      "cell_type": "markdown",
      "source": [
        "### Modell Scoring Script\n",
        "\n",
        "Das Scoring-Skript enthält zwei Methoden:\n",
        "\n",
        "* Die Methode `init()` wird beim Starten des Services ausgeführt. Sie lädt das Modell (das automatisch aus der Modellregistrierung heruntergeladen wird) und deserialisiert es.\n",
        "* Die Methode `run(data)` wird ausgeführt, wenn ein Aufruf des Services Eingabedaten enthält, die ausgewertet werden müssen."
      ],
      "metadata": {
        "nteract": {
          "transient": {
            "deleting": false
          }
        }
      }
    },
    {
      "cell_type": "code",
      "source": [
        "%%writefile score.py\n",
        "\n",
        "import json\n",
        "import pickle\n",
        "import numpy as np\n",
        "import pandas as pd\n",
        "import os\n",
        "import joblib\n",
        "from azureml.core.model import Model\n",
        "\n",
        "from inference_schema.schema_decorators import input_schema, output_schema\n",
        "from inference_schema.parameter_types.numpy_parameter_type import NumpyParameterType\n",
        "from inference_schema.parameter_types.pandas_parameter_type import PandasParameterType\n",
        "\n",
        "\n",
        "def init():\n",
        "    global model\n",
        "    # Replace filename if needed.\n",
        "    path = os.getenv('AZUREML_MODEL_DIR') \n",
        "    model_path = os.path.join(path, 'diabetes_sklearn_model.pkl')\n",
        "    # Deserialize the model file back into a sklearn model.\n",
        "    model = joblib.load(model_path)\n",
        "\n",
        "\n",
        "input_sample = pd.DataFrame(data=[{\n",
        "    \"AGE\": 5,\n",
        "    \"SEX\": 2,\n",
        "    \"BMI\": 3.1,\n",
        "    \"BP\": 3.1,\n",
        "    \"S1\": 3.1,\n",
        "    \"S2\": 3.1,\n",
        "    \"S3\": 3.1,\n",
        "    \"S4\": 3.1,\n",
        "    \"S5\": 3.1,\n",
        "    \"S6\": 3.1\n",
        "}])\n",
        "\n",
        "# This is an integer type sample. Use the data type that reflects the expected result.\n",
        "output_sample = np.array([0])\n",
        "\n",
        "# To indicate that we support a variable length of data input,\n",
        "# set enforce_shape=False\n",
        "@input_schema('data', PandasParameterType(input_sample))\n",
        "@output_schema(NumpyParameterType(output_sample))\n",
        "def run(data):\n",
        "    try:\n",
        "        print(\"input_data....\")\n",
        "        print(data.columns)\n",
        "        print(type(data))\n",
        "        result = model.predict(data)\n",
        "        print(\"result.....\")\n",
        "        print(result)\n",
        "\n",
        "        # You can return any data type, as long as it can be serialized by JSON.\n",
        "        return result.tolist()\n",
        "    except Exception as e:\n",
        "        error = str(e)\n",
        "        return error"
      ],
      "outputs": [
        {
          "output_type": "stream",
          "name": "stdout",
          "text": "Writing score.py\n"
        }
      ],
      "execution_count": 4,
      "metadata": {
        "jupyter": {
          "outputs_hidden": false,
          "source_hidden": false
        },
        "nteract": {
          "transient": {
            "deleting": false
          }
        }
      }
    },
    {
      "cell_type": "markdown",
      "source": [
        "### Definiere das benutzerdefinierte Environment\n",
        "\n",
        "Definiere im Environment die Python Pakete, wie z. B. `pandas` und `scikit-learn`, die das Scoring Script (`score.py`) benötigt."
      ],
      "metadata": {
        "nteract": {
          "transient": {
            "deleting": false
          }
        }
      }
    },
    {
      "cell_type": "code",
      "source": [
        "from azureml.core.model import InferenceConfig\n",
        "from azureml.core import Environment\n",
        "from azureml.core.conda_dependencies import CondaDependencies\n",
        "\n",
        "environment = Environment('diabetes-sklearn-environment')\n",
        "environment.python.conda_dependencies = CondaDependencies.create(pip_packages=[\n",
        "    'azureml-defaults',\n",
        "    'inference-schema[numpy-support]',\n",
        "    'joblib',\n",
        "    'numpy',\n",
        "    'pandas',\n",
        "    'scikit-learn=={}'.format(sklearn.__version__)\n",
        "])\n",
        "\n",
        "inference_config = InferenceConfig(entry_script='./score.py',environment=environment)"
      ],
      "outputs": [],
      "execution_count": 5,
      "metadata": {
        "gather": {
          "logged": 1635197211104
        },
        "jupyter": {
          "outputs_hidden": false,
          "source_hidden": false
        },
        "nteract": {
          "transient": {
            "deleting": false
          }
        }
      }
    },
    {
      "cell_type": "markdown",
      "source": [
        "### Model deployen"
      ],
      "metadata": {
        "nteract": {
          "transient": {
            "deleting": false
          }
        }
      }
    },
    {
      "cell_type": "code",
      "source": [
        "service_name = 'diabetes-sklearn-model'\n",
        "\n",
        "service = Model.deploy(ws, service_name, [model], inference_config, overwrite=True)\n",
        "service.wait_for_deployment(show_output=True)"
      ],
      "outputs": [
        {
          "output_type": "stream",
          "name": "stdout",
          "text": "Tips: You can try get_logs(): https://aka.ms/debugimage#dockerlog or local deployment: https://aka.ms/debugimage#debug-locally to debug if deployment takes longer than 10 minutes.\nRunning\n2021-10-25 21:26:56+00:00 Creating Container Registry if not exists.\n2021-10-25 21:26:56+00:00 Registering the environment.\n2021-10-25 21:26:57+00:00 Building image..\n2021-10-25 21:32:58+00:00 Generating deployment configuration.\n2021-10-25 21:32:59+00:00 Submitting deployment to compute..\n2021-10-25 21:33:10+00:00 Checking the status of deployment diabetes-sklearn-model..\n2021-10-25 21:35:21+00:00 Checking the status of inference endpoint diabetes-sklearn-model.\nSucceeded\nACI service creation operation finished, operation \"Succeeded\"\n"
        }
      ],
      "execution_count": 6,
      "metadata": {
        "gather": {
          "logged": 1635197775061
        },
        "jupyter": {
          "outputs_hidden": false,
          "source_hidden": false
        },
        "nteract": {
          "transient": {
            "deleting": false
          }
        }
      }
    },
    {
      "cell_type": "markdown",
      "source": [
        "### Web Service testen\n",
        "\n",
        "Der Output sollte wie die folgende Python Liste aussehen:\n",
        "\n",
        "```python\n",
        "[[205.59094435613133], [68.84146418576978]]\n",
        "```"
      ],
      "metadata": {
        "nteract": {
          "transient": {
            "deleting": false
          }
        }
      }
    },
    {
      "cell_type": "code",
      "source": [
        "import json\n",
        "\n",
        "input_payload = json.dumps({\n",
        "    'data': X_df[0:2].values.tolist()\n",
        "})\n",
        "\n",
        "output = service.run(input_payload)\n",
        "\n",
        "print(output)"
      ],
      "outputs": [
        {
          "output_type": "stream",
          "name": "stdout",
          "text": "[[205.59094435613133], [68.84146418576978]]\n"
        }
      ],
      "execution_count": 7,
      "metadata": {
        "gather": {
          "logged": 1635197775348
        },
        "jupyter": {
          "outputs_hidden": false,
          "source_hidden": false
        },
        "nteract": {
          "transient": {
            "deleting": false
          }
        }
      }
    }
  ],
  "metadata": {
    "kernel_info": {
      "name": "python3-azureml"
    },
    "kernelspec": {
      "name": "python3-azureml",
      "language": "python",
      "display_name": "Python 3.6 - AzureML"
    },
    "language_info": {
      "name": "python",
      "version": "3.6.9",
      "mimetype": "text/x-python",
      "codemirror_mode": {
        "name": "ipython",
        "version": 3
      },
      "pygments_lexer": "ipython3",
      "nbconvert_exporter": "python",
      "file_extension": ".py"
    },
    "microsoft": {
      "host": {
        "AzureML": {
          "notebookHasBeenCompleted": true
        }
      }
    },
    "nteract": {
      "version": "nteract-front-end@1.0.0"
    }
  },
  "nbformat": 4,
  "nbformat_minor": 2
}